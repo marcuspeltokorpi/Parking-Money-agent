{
 "cells": [
  {
   "cell_type": "markdown",
   "id": "b26ca19e",
   "metadata": {},
   "source": [
    "Task 1: Use the Money model example showed in the workshop.\n",
    "Task 2: Money should be randomly distributed to all the agents between 0-5.\n",
    "Task 3: Now improve the distribution of wealth to agents by reducing agents with “0” money.\n",
    "Task 4: Run the model 100 times and show the distribution of money to agents.\n",
    "Task 5: Display Gini coefficient plot and wealth distribution plots.\n",
    "Task 6: Now re-run the steps 2 to 5 again by modifying the range to 0-20."
   ]
  },
  {
   "cell_type": "code",
   "execution_count": 1,
   "id": "689673e2",
   "metadata": {},
   "outputs": [],
   "source": [
    "# Import libraries\n",
    "import seaborn as sns\n",
    "import numpy as np\n",
    "import pandas as pd\n",
    "import random\n",
    "import mesa\n",
    "from mesa import Agent\n",
    "import matplotlib.pyplot as plt\n",
    "%matplotlib inline"
   ]
  },
  {
   "cell_type": "code",
   "execution_count": 2,
   "id": "68dfcf75",
   "metadata": {},
   "outputs": [],
   "source": [
    "# Function to compute Gini coefficient for wealth distribution in the model\n",
    "def compute_gini(model):\n",
    "    # Extract wealth of each agent in the model\n",
    "    agent_wealths = [agent.wealth for agent in model.schedule.agents]\n",
    "    \n",
    "    # Sort wealth values\n",
    "    x = sorted(agent_wealths)\n",
    "    \n",
    "    # Calculate Gini coefficient using the formula\n",
    "    N = model.num_agents\n",
    "    B = sum(xi * (N - i) for i, xi in enumerate(x)) / (N * sum(x))\n",
    "    \n",
    "    # Return the calculated Gini coefficient\n",
    "    return 1 + (1 / N) - 2 * B\n",
    "\n",
    "# Class representing an agent in the model\n",
    "class MoneyAgent(mesa.Agent):\n",
    "    \"\"\"An agent with fixed initial wealth.\"\"\"\n",
    "    \n",
    "    def __init__(self, unique_id, model):\n",
    "        super().__init__(unique_id, model)\n",
    "        self.wealth = 1\n",
    "\n",
    "    # Method for agent movement\n",
    "    def move(self):\n",
    "        possible_steps = self.model.grid.get_neighborhood(\n",
    "            self.pos, moore=True, include_center=False\n",
    "        )\n",
    "        new_position = self.random.choice(possible_steps)\n",
    "        self.model.grid.move_agent(self, new_position)\n",
    "\n",
    "    # Method for agent giving money to a neighbor\n",
    "    def give_money(self):\n",
    "        cellmates = self.model.grid.get_cell_list_contents([self.pos])\n",
    "        cellmates.pop(cellmates.index(self))  # Ensure agent is not giving money to itself\n",
    "\n",
    "        if len(cellmates) > 1:\n",
    "            other = self.random.choice(cellmates)\n",
    "        \n",
    "            if other.wealth < self.wealth:\n",
    "                other.wealth += 1\n",
    "                self.wealth -= 1\n",
    "            #else:\n",
    "            #    print(\"Do nothing\")\n",
    "\n",
    "    # Method representing a step in the agent's actions\n",
    "    def step(self):\n",
    "        self.move()\n",
    "        if self.wealth > 0:\n",
    "            self.give_money()\n",
    "\n",
    "# Class representing the overall model\n",
    "class MoneyModel(mesa.Model):\n",
    "    \"\"\"A model with some number of agents.\"\"\"\n",
    "    \n",
    "    def __init__(self, N, width, height):\n",
    "        self.num_agents = N\n",
    "        self.grid = mesa.space.MultiGrid(width, height, True)\n",
    "        self.schedule = mesa.time.RandomActivation(self)\n",
    "\n",
    "        # Create agents\n",
    "        for i in range(self.num_agents):\n",
    "            a = MoneyAgent(i, self)\n",
    "            a.wealth = random.randint(0, 20)  # Comment out to restore money_agent.ipynb behavior\n",
    "            self.schedule.add(a)\n",
    "            # Add the agent to a random grid cell\n",
    "            x = self.random.randrange(self.grid.width)\n",
    "            y = self.random.randrange(self.grid.height)\n",
    "            self.grid.place_agent(a, (x, y))\n",
    "\n",
    "        # Set up data collector to collect Gini coefficient and individual agent wealth\n",
    "        self.datacollector = mesa.DataCollector(\n",
    "            model_reporters={\"Gini\": compute_gini}, agent_reporters={\"Wealth\": \"wealth\"}\n",
    "        )\n",
    "\n",
    "    # Method representing a step in the model's progression\n",
    "    def step(self):\n",
    "        # Collect data for analysis\n",
    "        self.datacollector.collect(self)\n",
    "        \n",
    "        # Advance the scheduler by one step\n",
    "        self.schedule.step()\n"
   ]
  },
  {
   "cell_type": "code",
   "execution_count": 3,
   "id": "9f4a4a3a",
   "metadata": {
    "scrolled": true
   },
   "outputs": [
    {
     "name": "stdout",
     "output_type": "stream",
     "text": [
      "Wealth Distribution After 100 Steps:\n",
      "Wealth: 9, Number of Agents: 51\n",
      "Wealth: 10, Number of Agents: 49\n"
     ]
    }
   ],
   "source": [
    "# Create a MoneyModel with 100 agents on a 10x10 grid\n",
    "model = MoneyModel(100, 10, 10)\n",
    "\n",
    "# Run the model for 100 steps\n",
    "for i in range(100):\n",
    "    model.step()\n",
    "\n",
    "# Collect and display the wealth distribution of agents after running the model\n",
    "# This uses NumPy to count unique wealth values and their occurrences\n",
    "unique, counts = np.unique([agent.wealth for agent in model.schedule.agents], return_counts=True)\n",
    "\n",
    "# Print the wealth distribution in a readable format\n",
    "print(\"Wealth Distribution After 100 Steps:\")\n",
    "for wealth, count in zip(unique, counts):\n",
    "    print(f\"Wealth: {wealth}, Number of Agents: {count}\")\n",
    "\n"
   ]
  },
  {
   "cell_type": "code",
   "execution_count": 4,
   "id": "2ccf7123",
   "metadata": {},
   "outputs": [
    {
     "data": {
      "image/png": "[encoded data removed]",
      "text/plain": [
       "<Figure size 640x480 with 1 Axes>"
      ]
     },
     "metadata": {},
     "output_type": "display_data"
    }
   ],
   "source": [
    "# Retrieve Gini coefficient data collected during the model run\n",
    "gini = model.datacollector.get_model_vars_dataframe()\n",
    "\n",
    "# Plot the Gini coefficient over time using Seaborn\n",
    "# Seaborn is a data visualization library in Python\n",
    "g = sns.lineplot(data=gini)\n",
    "\n",
    "# Set plot title and axis labels\n",
    "g.set(title=\"Gini Coefficient over Time\", ylabel=\"Gini Coefficient\");\n"
   ]
  }
 ],
 "metadata": {
  "kernelspec": {
   "display_name": "Python 3 (ipykernel)",
   "language": "python",
   "name": "python3"
  },
  "language_info": {
   "codemirror_mode": {
    "name": "ipython",
    "version": 3
   },
   "file_extension": ".py",
   "mimetype": "text/x-python",
   "name": "python",
   "nbconvert_exporter": "python",
   "pygments_lexer": "ipython3",
   "version": "3.9.13"
  }
 },
 "nbformat": 4,
 "nbformat_minor": 5
}
